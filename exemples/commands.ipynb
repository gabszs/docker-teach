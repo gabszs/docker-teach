{
 "cells": [
  {
   "cell_type": "markdown",
   "metadata": {},
   "source": [
    "First, we need to build our images:\n",
    "```\n",
    "docker build -t minha-imagem .\n",
    "docker build -f MeuDockerfile -t nome-da-imagem .\n",
    "```"
   ]
  },
  {
   "cell_type": "markdown",
   "metadata": {},
   "source": [
    "Only that, we can run our container by using:\n",
    "```\n",
    "docker run -d hello-world # use -d to distached mode\n",
    "```"
   ]
  },
  {
   "cell_type": "markdown",
   "metadata": {},
   "source": [
    "\n",
    "also, you can use, \n",
    "```\n",
    "docker stop $CONTAINER_ID # to stop a container\n",
    "docker rmi $IMAGE_NAME # to remove a image\n",
    "docker pull $IMAGE_NAME # to donwload a image\n",
    "docker logs $CONTAINER_ID # to see container logs\n",
    "```\n"
   ]
  },
  {
   "cell_type": "markdown",
   "metadata": {},
   "source": [
    "Postgresql example:\n",
    "```\n",
    "docker run -d --name app_database_prod -e POSTGRES_USER=app_user -e POSTGRES_DB=app_db -e POSTGRES_PASSWORD=app_password -p 5433:5432 postgres\n",
    "\n",
    "```"
   ]
  },
  {
   "cell_type": "markdown",
   "metadata": {},
   "source": []
  },
  {
   "cell_type": "markdown",
   "metadata": {},
   "source": []
  },
  {
   "cell_type": "code",
   "execution_count": null,
   "metadata": {},
   "outputs": [],
   "source": []
  }
 ],
 "metadata": {
  "language_info": {
   "name": "python"
  }
 },
 "nbformat": 4,
 "nbformat_minor": 2
}
